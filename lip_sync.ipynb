{
  "nbformat": 4,
  "nbformat_minor": 0,
  "metadata": {
    "colab": {
      "provenance": [],
      "gpuType": "T4"
    },
    "kernelspec": {
      "name": "python3",
      "display_name": "Python 3"
    },
    "language_info": {
      "name": "python"
    },
    "accelerator": "GPU"
  },
  "cells": [
    {
      "cell_type": "code",
      "execution_count": null,
      "metadata": {
        "colab": {
          "base_uri": "https://localhost:8080/"
        },
        "id": "UWbKf4UfBGdv",
        "outputId": "f8ca225f-e630-4d0c-e7a5-f518b3dbf1d1"
      },
      "outputs": [
        {
          "output_type": "stream",
          "name": "stdout",
          "text": [
            "Collecting pytube\n",
            "  Downloading pytube-15.0.0-py3-none-any.whl (57 kB)\n",
            "\u001b[?25l     \u001b[90m━━━━━━━━━━━━━━━━━━━━━━━━━━━━━━━━━━━━━━━━\u001b[0m \u001b[32m0.0/57.6 kB\u001b[0m \u001b[31m?\u001b[0m eta \u001b[36m-:--:--\u001b[0m\r\u001b[2K     \u001b[90m━━━━━━━━━━━━━━━━━━━━━━━━━━━━━━━━━━━━━━━━\u001b[0m \u001b[32m57.6/57.6 kB\u001b[0m \u001b[31m2.1 MB/s\u001b[0m eta \u001b[36m0:00:00\u001b[0m\n",
            "\u001b[?25hInstalling collected packages: pytube\n",
            "Successfully installed pytube-15.0.0\n",
            "Requirement already satisfied: moviepy in /usr/local/lib/python3.10/dist-packages (1.0.3)\n",
            "Requirement already satisfied: decorator<5.0,>=4.0.2 in /usr/local/lib/python3.10/dist-packages (from moviepy) (4.4.2)\n",
            "Requirement already satisfied: tqdm<5.0,>=4.11.2 in /usr/local/lib/python3.10/dist-packages (from moviepy) (4.66.1)\n",
            "Requirement already satisfied: requests<3.0,>=2.8.1 in /usr/local/lib/python3.10/dist-packages (from moviepy) (2.31.0)\n",
            "Requirement already satisfied: proglog<=1.0.0 in /usr/local/lib/python3.10/dist-packages (from moviepy) (0.1.10)\n",
            "Requirement already satisfied: numpy>=1.17.3 in /usr/local/lib/python3.10/dist-packages (from moviepy) (1.23.5)\n",
            "Requirement already satisfied: imageio<3.0,>=2.5 in /usr/local/lib/python3.10/dist-packages (from moviepy) (2.31.1)\n",
            "Requirement already satisfied: imageio-ffmpeg>=0.2.0 in /usr/local/lib/python3.10/dist-packages (from moviepy) (0.4.8)\n",
            "Requirement already satisfied: pillow>=8.3.2 in /usr/local/lib/python3.10/dist-packages (from imageio<3.0,>=2.5->moviepy) (9.4.0)\n",
            "Requirement already satisfied: charset-normalizer<4,>=2 in /usr/local/lib/python3.10/dist-packages (from requests<3.0,>=2.8.1->moviepy) (3.2.0)\n",
            "Requirement already satisfied: idna<4,>=2.5 in /usr/local/lib/python3.10/dist-packages (from requests<3.0,>=2.8.1->moviepy) (3.4)\n",
            "Requirement already satisfied: urllib3<3,>=1.21.1 in /usr/local/lib/python3.10/dist-packages (from requests<3.0,>=2.8.1->moviepy) (2.0.4)\n",
            "Requirement already satisfied: certifi>=2017.4.17 in /usr/local/lib/python3.10/dist-packages (from requests<3.0,>=2.8.1->moviepy) (2023.7.22)\n",
            "Collecting librosa==0.9.1\n",
            "  Downloading librosa-0.9.1-py3-none-any.whl (213 kB)\n",
            "\u001b[2K     \u001b[90m━━━━━━━━━━━━━━━━━━━━━━━━━━━━━━━━━━━━━━━\u001b[0m \u001b[32m213.1/213.1 kB\u001b[0m \u001b[31m3.1 MB/s\u001b[0m eta \u001b[36m0:00:00\u001b[0m\n",
            "\u001b[?25hRequirement already satisfied: audioread>=2.1.5 in /usr/local/lib/python3.10/dist-packages (from librosa==0.9.1) (3.0.0)\n",
            "Requirement already satisfied: numpy>=1.17.0 in /usr/local/lib/python3.10/dist-packages (from librosa==0.9.1) (1.23.5)\n",
            "Requirement already satisfied: scipy>=1.2.0 in /usr/local/lib/python3.10/dist-packages (from librosa==0.9.1) (1.10.1)\n",
            "Requirement already satisfied: scikit-learn>=0.19.1 in /usr/local/lib/python3.10/dist-packages (from librosa==0.9.1) (1.2.2)\n",
            "Requirement already satisfied: joblib>=0.14 in /usr/local/lib/python3.10/dist-packages (from librosa==0.9.1) (1.3.2)\n",
            "Requirement already satisfied: decorator>=4.0.10 in /usr/local/lib/python3.10/dist-packages (from librosa==0.9.1) (4.4.2)\n",
            "Collecting resampy>=0.2.2 (from librosa==0.9.1)\n",
            "  Downloading resampy-0.4.2-py3-none-any.whl (3.1 MB)\n",
            "\u001b[2K     \u001b[90m━━━━━━━━━━━━━━━━━━━━━━━━━━━━━━━━━━━━━━━━\u001b[0m \u001b[32m3.1/3.1 MB\u001b[0m \u001b[31m19.8 MB/s\u001b[0m eta \u001b[36m0:00:00\u001b[0m\n",
            "\u001b[?25hRequirement already satisfied: numba>=0.45.1 in /usr/local/lib/python3.10/dist-packages (from librosa==0.9.1) (0.56.4)\n",
            "Requirement already satisfied: soundfile>=0.10.2 in /usr/local/lib/python3.10/dist-packages (from librosa==0.9.1) (0.12.1)\n",
            "Requirement already satisfied: pooch>=1.0 in /usr/local/lib/python3.10/dist-packages (from librosa==0.9.1) (1.7.0)\n",
            "Requirement already satisfied: packaging>=20.0 in /usr/local/lib/python3.10/dist-packages (from librosa==0.9.1) (23.1)\n",
            "Requirement already satisfied: llvmlite<0.40,>=0.39.0dev0 in /usr/local/lib/python3.10/dist-packages (from numba>=0.45.1->librosa==0.9.1) (0.39.1)\n",
            "Requirement already satisfied: setuptools in /usr/local/lib/python3.10/dist-packages (from numba>=0.45.1->librosa==0.9.1) (67.7.2)\n",
            "Requirement already satisfied: platformdirs>=2.5.0 in /usr/local/lib/python3.10/dist-packages (from pooch>=1.0->librosa==0.9.1) (3.10.0)\n",
            "Requirement already satisfied: requests>=2.19.0 in /usr/local/lib/python3.10/dist-packages (from pooch>=1.0->librosa==0.9.1) (2.31.0)\n",
            "Requirement already satisfied: threadpoolctl>=2.0.0 in /usr/local/lib/python3.10/dist-packages (from scikit-learn>=0.19.1->librosa==0.9.1) (3.2.0)\n",
            "Requirement already satisfied: cffi>=1.0 in /usr/local/lib/python3.10/dist-packages (from soundfile>=0.10.2->librosa==0.9.1) (1.15.1)\n",
            "Requirement already satisfied: pycparser in /usr/local/lib/python3.10/dist-packages (from cffi>=1.0->soundfile>=0.10.2->librosa==0.9.1) (2.21)\n",
            "Requirement already satisfied: charset-normalizer<4,>=2 in /usr/local/lib/python3.10/dist-packages (from requests>=2.19.0->pooch>=1.0->librosa==0.9.1) (3.2.0)\n",
            "Requirement already satisfied: idna<4,>=2.5 in /usr/local/lib/python3.10/dist-packages (from requests>=2.19.0->pooch>=1.0->librosa==0.9.1) (3.4)\n",
            "Requirement already satisfied: urllib3<3,>=1.21.1 in /usr/local/lib/python3.10/dist-packages (from requests>=2.19.0->pooch>=1.0->librosa==0.9.1) (2.0.4)\n",
            "Requirement already satisfied: certifi>=2017.4.17 in /usr/local/lib/python3.10/dist-packages (from requests>=2.19.0->pooch>=1.0->librosa==0.9.1) (2023.7.22)\n",
            "Installing collected packages: resampy, librosa\n",
            "  Attempting uninstall: librosa\n",
            "    Found existing installation: librosa 0.10.1\n",
            "    Uninstalling librosa-0.10.1:\n",
            "      Successfully uninstalled librosa-0.10.1\n",
            "Successfully installed librosa-0.9.1 resampy-0.4.2\n"
          ]
        }
      ],
      "source": [
        "!pip install pytube\n",
        "!pip install moviepy\n",
        "!pip install librosa==0.9.1"
      ]
    },
    {
      "cell_type": "code",
      "source": [
        "from google.colab import drive\n",
        "drive.mount('/content/drive')"
      ],
      "metadata": {
        "id": "JPkZ_C0Z2Nz6",
        "colab": {
          "base_uri": "https://localhost:8080/"
        },
        "outputId": "2e5a3303-4740-4a79-9a0f-d21eec20bfeb"
      },
      "execution_count": null,
      "outputs": [
        {
          "output_type": "stream",
          "name": "stdout",
          "text": [
            "Mounted at /content/drive\n"
          ]
        }
      ]
    },
    {
      "cell_type": "code",
      "source": [
        "!git clone https://github.com/Rudrabha/Wav2Lip.git\n",
        "!wget 'https://www.adrianbulat.com/downloads/python-fan/s3fd-619a316812.pth' -O '/content/Wav2Lip/face_detection/detection/sfd/s3fd.pth'\n",
        "!cp /content/drive/MyDrive/wave2lip-cp/wav2lip_gan.pth  '/content/Wav2Lip/checkpoints/'"
      ],
      "metadata": {
        "colab": {
          "base_uri": "https://localhost:8080/"
        },
        "id": "t8v_MqVEiU-i",
        "outputId": "ca6d2b72-35e6-4cd3-ede1-20e07bf8ac50"
      },
      "execution_count": null,
      "outputs": [
        {
          "output_type": "stream",
          "name": "stdout",
          "text": [
            "fatal: destination path 'Wav2Lip' already exists and is not an empty directory.\n",
            "fatal: destination path 'GFPGAN' already exists and is not an empty directory.\n",
            "--2023-09-02 08:55:44--  https://www.adrianbulat.com/downloads/python-fan/s3fd-619a316812.pth\n",
            "Resolving www.adrianbulat.com (www.adrianbulat.com)... 45.136.29.207\n",
            "Connecting to www.adrianbulat.com (www.adrianbulat.com)|45.136.29.207|:443... connected.\n",
            "HTTP request sent, awaiting response... 200 OK\n",
            "Length: 89843225 (86M) [application/octet-stream]\n",
            "Saving to: ‘/content/Wav2Lip/face_detection/detection/sfd/s3fd.pth’\n",
            "\n",
            "/content/Wav2Lip/fa 100%[===================>]  85.68M   208MB/s    in 0.4s    \n",
            "\n",
            "2023-09-02 08:55:45 (208 MB/s) - ‘/content/Wav2Lip/face_detection/detection/sfd/s3fd.pth’ saved [89843225/89843225]\n",
            "\n"
          ]
        }
      ]
    },
    {
      "cell_type": "code",
      "source": [
        "import os\n",
        "import cv2\n",
        "from os import path\n",
        "from tqdm import tqdm\n",
        "from pytube import YouTube\n",
        "from moviepy.editor import *"
      ],
      "metadata": {
        "id": "2aQ7dktfigh_"
      },
      "execution_count": null,
      "outputs": []
    },
    {
      "cell_type": "code",
      "source": [
        "def download(video_url):\n",
        "    video = YouTube(video_url)\n",
        "    video = video.streams.get_highest_resolution()\n",
        "\n",
        "    try:\n",
        "        video.download(\"/content\")\n",
        "    except:\n",
        "        print(\"Failed to download video\")\n",
        "\n",
        "    print(\"video was downloaded successfully\")\n",
        "download(\"https://www.youtube.com/watch?v=YMuuEv37s0o\")\n",
        "!gdown 1jhUOAeGw8lPjNf7Q1cIcBOvzE3CJ3gVz"
      ],
      "metadata": {
        "id": "zfYZuVSMBN7B",
        "colab": {
          "base_uri": "https://localhost:8080/"
        },
        "outputId": "030bb7a2-b4ff-4f3c-f4e9-f2530a73a902"
      },
      "execution_count": null,
      "outputs": [
        {
          "output_type": "stream",
          "name": "stdout",
          "text": [
            "video was downloaded successfully\n",
            "Downloading...\n",
            "From: https://drive.google.com/uc?id=1jhUOAeGw8lPjNf7Q1cIcBOvzE3CJ3gVz\n",
            "To: /content/output10.wav\n",
            "100% 808k/808k [00:00<00:00, 96.0MB/s]\n"
          ]
        }
      ]
    },
    {
      "cell_type": "code",
      "source": [
        "clip = VideoFileClip('/content/TechNews 1562  IPL Final OLA Prime Plus Love scam Motorola Edge 40 Premium TV Days Etc.mp4')\n",
        "clip1 = clip.subclip((0,0),(1,7))\n",
        "clip1.write_videofile('video.mp4',codec='libx264')"
      ],
      "metadata": {
        "colab": {
          "base_uri": "https://localhost:8080/"
        },
        "id": "LiaKbonC5X5j",
        "outputId": "569535c0-7010-4e26-813a-ebfabbe9899a"
      },
      "execution_count": null,
      "outputs": [
        {
          "output_type": "stream",
          "name": "stdout",
          "text": [
            "Moviepy - Building video video.mp4.\n",
            "MoviePy - Writing audio in videoTEMP_MPY_wvf_snd.mp3\n"
          ]
        },
        {
          "output_type": "stream",
          "name": "stderr",
          "text": []
        },
        {
          "output_type": "stream",
          "name": "stdout",
          "text": [
            "MoviePy - Done.\n",
            "Moviepy - Writing video video.mp4\n",
            "\n"
          ]
        },
        {
          "output_type": "stream",
          "name": "stderr",
          "text": []
        },
        {
          "output_type": "stream",
          "name": "stdout",
          "text": [
            "Moviepy - Done !\n",
            "Moviepy - video ready video.mp4\n"
          ]
        }
      ]
    },
    {
      "cell_type": "code",
      "source": [
        "!cd Wav2Lip && python inference.py --checkpoint_path checkpoints/wav2lip_gan.pth --face '/content/video.mp4' --audio \"/content/output10.wav\" --nosmooth"
      ],
      "metadata": {
        "colab": {
          "base_uri": "https://localhost:8080/"
        },
        "id": "Fuflke3pGKqR",
        "outputId": "d0e72029-2e66-48f8-fa2d-fde4da284012"
      },
      "execution_count": null,
      "outputs": [
        {
          "output_type": "stream",
          "name": "stdout",
          "text": [
            "Using cuda for inference.\n",
            "Reading video frames...\n",
            "Number of frames available for inference: 1675\n",
            "/content/Wav2Lip/audio.py:100: FutureWarning: Pass sr=16000, n_fft=800 as keyword args. From version 0.10 passing these as positional arguments will result in an error\n",
            "  return librosa.filters.mel(hp.sample_rate, hp.n_fft, n_mels=hp.num_mels,\n",
            "(80, 5386)\n",
            "Length of mel chunks: 1680\n",
            "  0% 0/14 [00:00<?, ?it/s]\n",
            "  0% 0/105 [00:00<?, ?it/s]\u001b[A\n",
            "  1% 1/105 [00:23<40:23, 23.31s/it]\u001b[A\n",
            "  2% 2/105 [00:25<18:14, 10.62s/it]\u001b[A\n",
            "  3% 3/105 [00:26<11:03,  6.51s/it]\u001b[A\n",
            "  4% 4/105 [00:28<07:42,  4.57s/it]\u001b[A\n",
            "  5% 5/105 [00:29<05:52,  3.52s/it]\u001b[A\n",
            "  6% 6/105 [00:31<04:45,  2.88s/it]\u001b[A\n",
            "  7% 7/105 [00:33<04:02,  2.47s/it]\u001b[A\n",
            "  8% 8/105 [00:34<03:37,  2.24s/it]\u001b[A\n",
            "  9% 9/105 [00:36<03:26,  2.15s/it]\u001b[A\n",
            " 10% 10/105 [00:38<03:18,  2.09s/it]\u001b[A\n",
            " 10% 11/105 [00:40<03:09,  2.01s/it]\u001b[A\n",
            " 11% 12/105 [00:42<02:57,  1.91s/it]\u001b[A\n",
            " 12% 13/105 [00:43<02:47,  1.82s/it]\u001b[A\n",
            " 13% 14/105 [00:45<02:40,  1.77s/it]\u001b[A\n",
            " 14% 15/105 [00:47<02:36,  1.74s/it]\u001b[A\n",
            " 15% 16/105 [00:49<02:34,  1.74s/it]\u001b[A\n",
            " 16% 17/105 [00:50<02:38,  1.80s/it]\u001b[A\n",
            " 17% 18/105 [00:53<02:45,  1.91s/it]\u001b[A\n",
            " 18% 19/105 [00:55<02:48,  1.96s/it]\u001b[A\n",
            " 19% 20/105 [00:57<02:46,  1.96s/it]\u001b[A\n",
            " 20% 21/105 [00:58<02:39,  1.90s/it]\u001b[A\n",
            " 21% 22/105 [01:00<02:34,  1.86s/it]\u001b[A\n",
            " 22% 23/105 [01:02<02:32,  1.86s/it]\u001b[A\n",
            " 23% 24/105 [01:04<02:30,  1.86s/it]\u001b[A\n",
            " 24% 25/105 [01:06<02:28,  1.86s/it]\u001b[A\n",
            " 25% 26/105 [01:08<02:30,  1.90s/it]\u001b[A\n",
            " 26% 27/105 [01:10<02:26,  1.88s/it]\u001b[A\n",
            " 27% 28/105 [01:12<02:25,  1.89s/it]\u001b[A\n",
            " 28% 29/105 [01:13<02:21,  1.86s/it]\u001b[A\n",
            " 29% 30/105 [01:15<02:13,  1.79s/it]\u001b[A\n",
            " 30% 31/105 [01:17<02:08,  1.74s/it]\u001b[A\n",
            " 30% 32/105 [01:18<02:04,  1.70s/it]\u001b[A\n",
            " 31% 33/105 [01:20<02:01,  1.68s/it]\u001b[A\n",
            " 32% 34/105 [01:21<01:58,  1.67s/it]\u001b[A\n",
            " 33% 35/105 [01:23<01:59,  1.71s/it]\u001b[A\n",
            " 34% 36/105 [01:25<02:04,  1.81s/it]\u001b[A\n",
            " 35% 37/105 [01:27<02:06,  1.87s/it]\u001b[A\n",
            " 36% 38/105 [01:29<02:05,  1.87s/it]\u001b[A\n",
            " 37% 39/105 [01:31<02:00,  1.82s/it]\u001b[A\n",
            " 38% 40/105 [01:33<01:56,  1.79s/it]\u001b[A\n",
            " 39% 41/105 [01:34<01:52,  1.76s/it]\u001b[A\n",
            " 40% 42/105 [01:36<01:49,  1.74s/it]\u001b[A\n",
            " 41% 43/105 [01:38<01:46,  1.72s/it]\u001b[A\n",
            " 42% 44/105 [01:39<01:45,  1.73s/it]\u001b[A\n",
            " 43% 45/105 [01:41<01:46,  1.78s/it]\u001b[A\n",
            " 44% 46/105 [01:43<01:48,  1.84s/it]\u001b[A\n",
            " 45% 47/105 [01:45<01:46,  1.84s/it]\u001b[A\n",
            " 46% 48/105 [01:47<01:42,  1.80s/it]\u001b[A\n",
            " 47% 49/105 [01:49<01:39,  1.77s/it]\u001b[A\n",
            " 48% 50/105 [01:50<01:36,  1.76s/it]\u001b[A\n",
            " 49% 51/105 [01:52<01:35,  1.76s/it]\u001b[A\n",
            " 50% 52/105 [01:54<01:33,  1.76s/it]\u001b[A\n",
            " 50% 53/105 [01:56<01:33,  1.79s/it]\u001b[A\n",
            " 51% 54/105 [01:58<01:35,  1.87s/it]\u001b[A\n",
            " 52% 55/105 [02:00<01:36,  1.94s/it]\u001b[A\n",
            " 53% 56/105 [02:02<01:34,  1.93s/it]\u001b[A\n",
            " 54% 57/105 [02:04<01:30,  1.89s/it]\u001b[A\n",
            " 55% 58/105 [02:05<01:27,  1.86s/it]\u001b[A\n",
            " 56% 59/105 [02:07<01:24,  1.83s/it]\u001b[A\n",
            " 57% 60/105 [02:09<01:21,  1.81s/it]\u001b[A\n",
            " 58% 61/105 [02:11<01:20,  1.82s/it]\u001b[A\n",
            " 59% 62/105 [02:13<01:20,  1.88s/it]\u001b[A\n",
            " 60% 63/105 [02:15<01:20,  1.91s/it]\u001b[A\n",
            " 61% 64/105 [02:17<01:18,  1.92s/it]\u001b[A\n",
            " 62% 65/105 [02:18<01:14,  1.87s/it]\u001b[A\n",
            " 63% 66/105 [02:20<01:11,  1.84s/it]\u001b[A\n",
            " 64% 67/105 [02:22<01:09,  1.83s/it]\u001b[A\n",
            " 65% 68/105 [02:24<01:06,  1.80s/it]\u001b[A\n",
            " 66% 69/105 [02:25<01:04,  1.79s/it]\u001b[A\n",
            " 67% 70/105 [02:27<01:03,  1.81s/it]\u001b[A\n",
            " 68% 71/105 [02:29<01:03,  1.87s/it]\u001b[A\n",
            " 69% 72/105 [02:31<01:02,  1.90s/it]\u001b[A\n",
            " 70% 73/105 [02:33<01:01,  1.94s/it]\u001b[A\n",
            " 70% 74/105 [02:35<01:00,  1.96s/it]\u001b[A\n",
            " 71% 75/105 [02:37<01:00,  2.02s/it]\u001b[A\n",
            " 72% 76/105 [02:39<00:56,  1.96s/it]\u001b[A\n",
            " 73% 77/105 [02:41<00:52,  1.89s/it]\u001b[A\n",
            " 74% 78/105 [02:43<00:49,  1.84s/it]\u001b[A\n",
            " 75% 79/105 [02:44<00:46,  1.81s/it]\u001b[A\n",
            " 76% 80/105 [02:46<00:45,  1.80s/it]\u001b[A\n",
            " 77% 81/105 [02:48<00:44,  1.85s/it]\u001b[A\n",
            " 78% 82/105 [02:50<00:43,  1.88s/it]\u001b[A\n",
            " 79% 83/105 [02:52<00:41,  1.88s/it]\u001b[A\n",
            " 80% 84/105 [02:54<00:38,  1.83s/it]\u001b[A\n",
            " 81% 85/105 [02:56<00:36,  1.80s/it]\u001b[A\n",
            " 82% 86/105 [02:57<00:33,  1.78s/it]\u001b[A\n",
            " 83% 87/105 [02:59<00:31,  1.76s/it]\u001b[A\n",
            " 84% 88/105 [03:01<00:29,  1.75s/it]\u001b[A\n",
            " 85% 89/105 [03:02<00:28,  1.76s/it]\u001b[A\n",
            " 86% 90/105 [03:04<00:27,  1.83s/it]\u001b[A\n",
            " 87% 91/105 [03:06<00:26,  1.87s/it]\u001b[A\n",
            " 88% 92/105 [03:08<00:24,  1.88s/it]\u001b[A\n",
            " 89% 93/105 [03:10<00:21,  1.83s/it]\u001b[A\n",
            " 90% 94/105 [03:12<00:20,  1.85s/it]\u001b[A\n",
            " 90% 95/105 [03:14<00:20,  2.01s/it]\u001b[A\n",
            " 91% 96/105 [03:17<00:18,  2.09s/it]\u001b[A\n",
            " 92% 97/105 [03:19<00:18,  2.27s/it]\u001b[A\n",
            " 93% 98/105 [03:22<00:17,  2.45s/it]\u001b[A\n",
            " 94% 99/105 [03:25<00:14,  2.43s/it]\u001b[A\n",
            " 95% 100/105 [03:27<00:11,  2.34s/it]\u001b[A\n",
            " 96% 101/105 [03:28<00:08,  2.15s/it]\u001b[A\n",
            " 97% 102/105 [03:30<00:06,  2.03s/it]\u001b[A\n",
            " 98% 103/105 [03:32<00:03,  1.94s/it]\u001b[A\n",
            " 99% 104/105 [03:34<00:02,  2.03s/it]\u001b[A\n",
            "100% 105/105 [03:51<00:00,  2.20s/it]\n",
            "Load checkpoint from: checkpoints/wav2lip.pth\n",
            "Model loaded\n",
            "100% 14/14 [04:23<00:00, 18.82s/it]\n",
            "ffmpeg version 4.4.2-0ubuntu0.22.04.1 Copyright (c) 2000-2021 the FFmpeg developers\n",
            "  built with gcc 11 (Ubuntu 11.2.0-19ubuntu1)\n",
            "  configuration: --prefix=/usr --extra-version=0ubuntu0.22.04.1 --toolchain=hardened --libdir=/usr/lib/x86_64-linux-gnu --incdir=/usr/include/x86_64-linux-gnu --arch=amd64 --enable-gpl --disable-stripping --enable-gnutls --enable-ladspa --enable-libaom --enable-libass --enable-libbluray --enable-libbs2b --enable-libcaca --enable-libcdio --enable-libcodec2 --enable-libdav1d --enable-libflite --enable-libfontconfig --enable-libfreetype --enable-libfribidi --enable-libgme --enable-libgsm --enable-libjack --enable-libmp3lame --enable-libmysofa --enable-libopenjpeg --enable-libopenmpt --enable-libopus --enable-libpulse --enable-librabbitmq --enable-librubberband --enable-libshine --enable-libsnappy --enable-libsoxr --enable-libspeex --enable-libsrt --enable-libssh --enable-libtheora --enable-libtwolame --enable-libvidstab --enable-libvorbis --enable-libvpx --enable-libwebp --enable-libx265 --enable-libxml2 --enable-libxvid --enable-libzimg --enable-libzmq --enable-libzvbi --enable-lv2 --enable-omx --enable-openal --enable-opencl --enable-opengl --enable-sdl2 --enable-pocketsphinx --enable-librsvg --enable-libmfx --enable-libdc1394 --enable-libdrm --enable-libiec61883 --enable-chromaprint --enable-frei0r --enable-libx264 --enable-shared\n",
            "  libavutil      56. 70.100 / 56. 70.100\n",
            "  libavcodec     58.134.100 / 58.134.100\n",
            "  libavformat    58. 76.100 / 58. 76.100\n",
            "  libavdevice    58. 13.100 / 58. 13.100\n",
            "  libavfilter     7.110.100 /  7.110.100\n",
            "  libswscale      5.  9.100 /  5.  9.100\n",
            "  libswresample   3.  9.100 /  3.  9.100\n",
            "  libpostproc    55.  9.100 / 55.  9.100\n",
            "\u001b[0;35m[mp3 @ 0x5692043242c0] \u001b[0m\u001b[0;33mEstimating duration from bitrate, this may be inaccurate\n",
            "\u001b[0mInput #0, mp3, from '/content/output10.wav':\n",
            "  Duration: 00:01:07.32, start: 0.000000, bitrate: 96 kb/s\n",
            "  Stream #0:0: Audio: mp3, 44100 Hz, mono, fltp, 96 kb/s\n",
            "Input #1, avi, from 'temp/result.avi':\n",
            "  Metadata:\n",
            "    software        : Lavf59.27.100\n",
            "  Duration: 00:01:07.20, start: 0.000000, bitrate: 1588 kb/s\n",
            "  Stream #1:0: Video: mpeg4 (Simple Profile) (DIVX / 0x58564944), yuv420p, 720x720 [SAR 1:1 DAR 1:1], 1583 kb/s, 25 fps, 25 tbr, 25 tbn, 25 tbc\n",
            "Stream mapping:\n",
            "  Stream #1:0 -> #0:0 (mpeg4 (native) -> h264 (libx264))\n",
            "  Stream #0:0 -> #0:1 (mp3 (mp3float) -> aac (native))\n",
            "Press [q] to stop, [?] for help\n",
            "\u001b[1;36m[libx264 @ 0x569204365d40] \u001b[0m\u001b[0;33m-qscale is ignored, -crf is recommended.\n",
            "\u001b[0m\u001b[1;36m[libx264 @ 0x569204365d40] \u001b[0musing SAR=1/1\n",
            "\u001b[1;36m[libx264 @ 0x569204365d40] \u001b[0musing cpu capabilities: MMX2 SSE2Fast SSSE3 SSE4.2 AVX FMA3 BMI2 AVX2 AVX512\n",
            "\u001b[1;36m[libx264 @ 0x569204365d40] \u001b[0mprofile High, level 3.1, 4:2:0, 8-bit\n",
            "\u001b[1;36m[libx264 @ 0x569204365d40] \u001b[0m264 - core 163 r3060 5db6aa6 - H.264/MPEG-4 AVC codec - Copyleft 2003-2021 - http://www.videolan.org/x264.html - options: cabac=1 ref=3 deblock=1:0:0 analyse=0x3:0x113 me=hex subme=7 psy=1 psy_rd=1.00:0.00 mixed_ref=1 me_range=16 chroma_me=1 trellis=1 8x8dct=1 cqm=0 deadzone=21,11 fast_pskip=1 chroma_qp_offset=-2 threads=3 lookahead_threads=1 sliced_threads=0 nr=0 decimate=1 interlaced=0 bluray_compat=0 constrained_intra=0 bframes=3 b_pyramid=2 b_adapt=1 b_bias=0 direct=1 weightb=1 open_gop=0 weightp=2 keyint=250 keyint_min=25 scenecut=40 intra_refresh=0 rc_lookahead=40 rc=crf mbtree=1 crf=23.0 qcomp=0.60 qpmin=0 qpmax=69 qpstep=4 ip_ratio=1.40 aq=1:1.00\n",
            "Output #0, mp4, to 'results/result_voice.mp4':\n",
            "  Metadata:\n",
            "    encoder         : Lavf58.76.100\n",
            "  Stream #0:0: Video: h264 (avc1 / 0x31637661), yuv420p(progressive), 720x720 [SAR 1:1 DAR 1:1], q=2-31, 25 fps, 12800 tbn\n",
            "    Metadata:\n",
            "      encoder         : Lavc58.134.100 libx264\n",
            "    Side data:\n",
            "      cpb: bitrate max/min/avg: 0/0/0 buffer size: 0 vbv_delay: N/A\n",
            "  Stream #0:1: Audio: aac (LC) (mp4a / 0x6134706D), 44100 Hz, mono, fltp, 69 kb/s\n",
            "    Metadata:\n",
            "      encoder         : Lavc58.134.100 aac\n",
            "frame= 1680 fps= 30 q=-1.0 Lsize=    6639kB time=00:01:07.31 bitrate= 807.9kbits/s speed=1.21x    \n",
            "video:6018kB audio:571kB subtitle:0kB other streams:0kB global headers:0kB muxing overhead: 0.767642%\n",
            "\u001b[1;36m[libx264 @ 0x569204365d40] \u001b[0mframe I:13    Avg QP:17.72  size: 24751\n",
            "\u001b[1;36m[libx264 @ 0x569204365d40] \u001b[0mframe P:1140  Avg QP:21.93  size:  4290\n",
            "\u001b[1;36m[libx264 @ 0x569204365d40] \u001b[0mframe B:527   Avg QP:25.58  size:  1800\n",
            "\u001b[1;36m[libx264 @ 0x569204365d40] \u001b[0mconsecutive B-frames: 52.3% 13.9% 10.9% 22.9%\n",
            "\u001b[1;36m[libx264 @ 0x569204365d40] \u001b[0mmb I  I16..4: 22.8% 71.7%  5.5%\n",
            "\u001b[1;36m[libx264 @ 0x569204365d40] \u001b[0mmb P  I16..4:  1.6%  7.2%  0.2%  P16..4: 33.0%  6.2%  2.7%  0.0%  0.0%    skip:49.0%\n",
            "\u001b[1;36m[libx264 @ 0x569204365d40] \u001b[0mmb B  I16..4:  0.5%  2.3%  0.0%  B16..8: 30.0%  2.9%  0.4%  direct: 0.7%  skip:63.3%  L0:54.2% L1:41.2% BI: 4.6%\n",
            "\u001b[1;36m[libx264 @ 0x569204365d40] \u001b[0m8x8 transform intra:79.2% inter:85.5%\n",
            "\u001b[1;36m[libx264 @ 0x569204365d40] \u001b[0mcoded y,uvDC,uvAC intra: 38.4% 49.4% 9.8% inter: 7.4% 10.5% 0.1%\n",
            "\u001b[1;36m[libx264 @ 0x569204365d40] \u001b[0mi16 v,h,dc,p: 51% 18% 16% 15%\n",
            "\u001b[1;36m[libx264 @ 0x569204365d40] \u001b[0mi8 v,h,dc,ddl,ddr,vr,hd,vl,hu: 34% 16% 38%  2%  2%  3%  1%  2%  2%\n",
            "\u001b[1;36m[libx264 @ 0x569204365d40] \u001b[0mi4 v,h,dc,ddl,ddr,vr,hd,vl,hu: 47% 12% 13%  3%  6%  8%  4%  5%  2%\n",
            "\u001b[1;36m[libx264 @ 0x569204365d40] \u001b[0mi8c dc,h,v,p: 50% 17% 26%  7%\n",
            "\u001b[1;36m[libx264 @ 0x569204365d40] \u001b[0mWeighted P-Frames: Y:0.1% UV:0.0%\n",
            "\u001b[1;36m[libx264 @ 0x569204365d40] \u001b[0mref P L0: 74.2%  8.6% 12.7%  4.4%  0.0%\n",
            "\u001b[1;36m[libx264 @ 0x569204365d40] \u001b[0mref B L0: 85.1% 12.4%  2.5%\n",
            "\u001b[1;36m[libx264 @ 0x569204365d40] \u001b[0mref B L1: 97.0%  3.0%\n",
            "\u001b[1;36m[libx264 @ 0x569204365d40] \u001b[0mkb/s:733.49\n",
            "\u001b[1;36m[aac @ 0x569204367a80] \u001b[0mQavg: 158.533\n"
          ]
        }
      ]
    }
  ]
}